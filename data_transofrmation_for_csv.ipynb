{
 "cells": [
  {
   "cell_type": "markdown",
   "metadata": {},
   "source": [
    "### Here we import the data from individual years, and extract the sales into csv files\n",
    "Even though the structure annually is similar, every year is done separately to have the option to check and validate everything"
   ]
  },
  {
   "cell_type": "markdown",
   "metadata": {},
   "source": [
    "#### Installing packages and importing things"
   ]
  },
  {
   "cell_type": "code",
   "execution_count": 364,
   "metadata": {},
   "outputs": [
    {
     "name": "stdout",
     "output_type": "stream",
     "text": [
      "Requirement already satisfied: pandas in c:\\users\\damia\\anaconda3\\envs\\datamodelingandanalitycs\\lib\\site-packages (from -r requirements.txt (line 1)) (2.2.3)\n",
      "Requirement already satisfied: matplotlib in c:\\users\\damia\\anaconda3\\envs\\datamodelingandanalitycs\\lib\\site-packages (from -r requirements.txt (line 2)) (3.9.2)\n",
      "Requirement already satisfied: seaborn in c:\\users\\damia\\anaconda3\\envs\\datamodelingandanalitycs\\lib\\site-packages (from -r requirements.txt (line 3)) (0.13.2)\n",
      "Requirement already satisfied: xlrd in c:\\users\\damia\\anaconda3\\envs\\datamodelingandanalitycs\\lib\\site-packages (from -r requirements.txt (line 4)) (2.0.1)\n",
      "Requirement already satisfied: numpy>=1.26.0 in c:\\users\\damia\\anaconda3\\envs\\datamodelingandanalitycs\\lib\\site-packages (from pandas->-r requirements.txt (line 1)) (2.1.2)\n",
      "Requirement already satisfied: python-dateutil>=2.8.2 in c:\\users\\damia\\anaconda3\\envs\\datamodelingandanalitycs\\lib\\site-packages (from pandas->-r requirements.txt (line 1)) (2.9.0)\n",
      "Requirement already satisfied: pytz>=2020.1 in c:\\users\\damia\\anaconda3\\envs\\datamodelingandanalitycs\\lib\\site-packages (from pandas->-r requirements.txt (line 1)) (2024.2)\n",
      "Requirement already satisfied: tzdata>=2022.7 in c:\\users\\damia\\anaconda3\\envs\\datamodelingandanalitycs\\lib\\site-packages (from pandas->-r requirements.txt (line 1)) (2024.2)\n",
      "Requirement already satisfied: contourpy>=1.0.1 in c:\\users\\damia\\anaconda3\\envs\\datamodelingandanalitycs\\lib\\site-packages (from matplotlib->-r requirements.txt (line 2)) (1.3.0)\n",
      "Requirement already satisfied: cycler>=0.10 in c:\\users\\damia\\anaconda3\\envs\\datamodelingandanalitycs\\lib\\site-packages (from matplotlib->-r requirements.txt (line 2)) (0.12.1)\n",
      "Requirement already satisfied: fonttools>=4.22.0 in c:\\users\\damia\\anaconda3\\envs\\datamodelingandanalitycs\\lib\\site-packages (from matplotlib->-r requirements.txt (line 2)) (4.54.1)\n",
      "Requirement already satisfied: kiwisolver>=1.3.1 in c:\\users\\damia\\anaconda3\\envs\\datamodelingandanalitycs\\lib\\site-packages (from matplotlib->-r requirements.txt (line 2)) (1.4.7)\n",
      "Requirement already satisfied: packaging>=20.0 in c:\\users\\damia\\anaconda3\\envs\\datamodelingandanalitycs\\lib\\site-packages (from matplotlib->-r requirements.txt (line 2)) (24.1)\n",
      "Requirement already satisfied: pillow>=8 in c:\\users\\damia\\anaconda3\\envs\\datamodelingandanalitycs\\lib\\site-packages (from matplotlib->-r requirements.txt (line 2)) (11.0.0)\n",
      "Requirement already satisfied: pyparsing>=2.3.1 in c:\\users\\damia\\anaconda3\\envs\\datamodelingandanalitycs\\lib\\site-packages (from matplotlib->-r requirements.txt (line 2)) (3.2.0)\n",
      "Requirement already satisfied: six>=1.5 in c:\\users\\damia\\anaconda3\\envs\\datamodelingandanalitycs\\lib\\site-packages (from python-dateutil>=2.8.2->pandas->-r requirements.txt (line 1)) (1.16.0)\n",
      "Note: you may need to restart the kernel to use updated packages.\n"
     ]
    }
   ],
   "source": [
    "%pip install -r requirements.txt"
   ]
  },
  {
   "cell_type": "code",
   "execution_count": 365,
   "metadata": {},
   "outputs": [],
   "source": [
    "import os\n",
    "import numpy as np\n",
    "import pandas as pd\n"
   ]
  },
  {
   "cell_type": "markdown",
   "metadata": {},
   "source": [
    "### 2015"
   ]
  },
  {
   "cell_type": "code",
   "execution_count": 366,
   "metadata": {},
   "outputs": [
    {
     "data": {
      "text/plain": [
       "['kody nowe01,15.xls',\n",
       " 'kody nowe02,15.xls',\n",
       " 'kody nowe03,15.xls',\n",
       " 'kody nowe04,15.xls',\n",
       " 'kody nowe05,15.xls',\n",
       " 'kody nowe06,15.xls',\n",
       " 'kody nowe07,15.xls',\n",
       " 'kody nowe08,15.xls',\n",
       " 'kody nowe09,15.xls',\n",
       " 'kody nowe10,15.xls',\n",
       " 'kody nowe11,15.xls',\n",
       " 'kody nowe12,15.xls']"
      ]
     },
     "execution_count": 366,
     "metadata": {},
     "output_type": "execute_result"
    }
   ],
   "source": [
    "data_from_2015_path = './data/2015/'\n",
    "\n",
    "files_list_2015 = os.listdir(data_from_2015_path)\n",
    "\n",
    "files_list_2015"
   ]
  },
  {
   "cell_type": "code",
   "execution_count": 367,
   "metadata": {},
   "outputs": [],
   "source": [
    "#clean rows names\n",
    "def clean_product_names(value):\n",
    "    return value.split(\".\")[1].strip()"
   ]
  },
  {
   "cell_type": "code",
   "execution_count": 368,
   "metadata": {},
   "outputs": [],
   "source": [
    "#I have to do the first two individually cause the columns don't match\n",
    "sum_sales_df_01_2015 = pd.read_excel(io=os.path.join(data_from_2015_path, 'kody nowe01,15.xls'), )\n",
    "sum_sales_df_01_2015 = sum_sales_df_01_2015.loc[0:49, ['Unnamed: 41', 'SUMA']]\n",
    "sum_sales_df_01_2015.columns = ['Produkt', '01_2015']\n",
    "sum_sales_df_01_2015['Produkt'] = sum_sales_df_01_2015['Produkt'].apply(clean_product_names)\n",
    "\n",
    "sum_sales_df_02_2015 = pd.read_excel(io=os.path.join(data_from_2015_path, 'kody nowe02,15.xls'), )\n",
    "sum_sales_df_02_2015 = sum_sales_df_02_2015.loc[0:49, ['Unnamed: 41','SUMA']]\n",
    "sum_sales_df_02_2015.columns = ['Produkt', '02_2015']\n",
    "\n",
    "sales_2015 = sum_sales_df_01_2015\n",
    "sales_2015['02_2015'] = sum_sales_df_02_2015['02_2015']"
   ]
  },
  {
   "cell_type": "code",
   "execution_count": 369,
   "metadata": {},
   "outputs": [
    {
     "data": {
      "text/html": [
       "<div>\n",
       "<style scoped>\n",
       "    .dataframe tbody tr th:only-of-type {\n",
       "        vertical-align: middle;\n",
       "    }\n",
       "\n",
       "    .dataframe tbody tr th {\n",
       "        vertical-align: top;\n",
       "    }\n",
       "\n",
       "    .dataframe thead th {\n",
       "        text-align: right;\n",
       "    }\n",
       "</style>\n",
       "<table border=\"1\" class=\"dataframe\">\n",
       "  <thead>\n",
       "    <tr style=\"text-align: right;\">\n",
       "      <th></th>\n",
       "      <th>Produkt</th>\n",
       "      <th>01_2015</th>\n",
       "      <th>02_2015</th>\n",
       "      <th>03_2015</th>\n",
       "      <th>04_2015</th>\n",
       "      <th>05_2015</th>\n",
       "      <th>06_2015</th>\n",
       "      <th>07_2015</th>\n",
       "      <th>08_2015</th>\n",
       "      <th>09_2015</th>\n",
       "      <th>10_2015</th>\n",
       "      <th>11_2015</th>\n",
       "      <th>12_2015</th>\n",
       "    </tr>\n",
       "  </thead>\n",
       "  <tbody>\n",
       "    <tr>\n",
       "      <th>0</th>\n",
       "      <td>SCHAB Z KOŚCIĄ</td>\n",
       "      <td>181.920</td>\n",
       "      <td>174.210</td>\n",
       "      <td>391.492</td>\n",
       "      <td>330.39</td>\n",
       "      <td>459.240</td>\n",
       "      <td>416.835</td>\n",
       "      <td>363.683</td>\n",
       "      <td>378.498</td>\n",
       "      <td>245.174</td>\n",
       "      <td>408.534</td>\n",
       "      <td>289.64</td>\n",
       "      <td>276.11</td>\n",
       "    </tr>\n",
       "    <tr>\n",
       "      <th>1</th>\n",
       "      <td>SCHAB BEZ KOŚCI</td>\n",
       "      <td>192.732</td>\n",
       "      <td>179.310</td>\n",
       "      <td>331.325</td>\n",
       "      <td>177.61</td>\n",
       "      <td>159.792</td>\n",
       "      <td>160.040</td>\n",
       "      <td>180.300</td>\n",
       "      <td>189.540</td>\n",
       "      <td>246.870</td>\n",
       "      <td>256.470</td>\n",
       "      <td>208.92</td>\n",
       "      <td>158.21</td>\n",
       "    </tr>\n",
       "    <tr>\n",
       "      <th>2</th>\n",
       "      <td>KARCZEK BEZ KOŚCI</td>\n",
       "      <td>156.977</td>\n",
       "      <td>171.419</td>\n",
       "      <td>301.939</td>\n",
       "      <td>228.79</td>\n",
       "      <td>272.260</td>\n",
       "      <td>224.882</td>\n",
       "      <td>262.285</td>\n",
       "      <td>196.857</td>\n",
       "      <td>244.620</td>\n",
       "      <td>256.020</td>\n",
       "      <td>199.25</td>\n",
       "      <td>146.83</td>\n",
       "    </tr>\n",
       "    <tr>\n",
       "      <th>3</th>\n",
       "      <td>SZYNKA Z KOŚCIA</td>\n",
       "      <td>0.000</td>\n",
       "      <td>2.840</td>\n",
       "      <td>62.110</td>\n",
       "      <td>26.91</td>\n",
       "      <td>33.650</td>\n",
       "      <td>19.600</td>\n",
       "      <td>36.660</td>\n",
       "      <td>40.250</td>\n",
       "      <td>30.820</td>\n",
       "      <td>64.320</td>\n",
       "      <td>38.15</td>\n",
       "      <td>17.43</td>\n",
       "    </tr>\n",
       "    <tr>\n",
       "      <th>4</th>\n",
       "      <td>SZYNKA BEZ KOŚCI</td>\n",
       "      <td>177.450</td>\n",
       "      <td>213.170</td>\n",
       "      <td>385.080</td>\n",
       "      <td>219.12</td>\n",
       "      <td>215.273</td>\n",
       "      <td>180.250</td>\n",
       "      <td>141.008</td>\n",
       "      <td>159.950</td>\n",
       "      <td>180.240</td>\n",
       "      <td>181.700</td>\n",
       "      <td>668.49</td>\n",
       "      <td>557.31</td>\n",
       "    </tr>\n",
       "  </tbody>\n",
       "</table>\n",
       "</div>"
      ],
      "text/plain": [
       "             Produkt  01_2015  02_2015  03_2015  04_2015  05_2015  06_2015  \\\n",
       "0     SCHAB Z KOŚCIĄ  181.920  174.210  391.492   330.39  459.240  416.835   \n",
       "1    SCHAB BEZ KOŚCI  192.732  179.310  331.325   177.61  159.792  160.040   \n",
       "2  KARCZEK BEZ KOŚCI  156.977  171.419  301.939   228.79  272.260  224.882   \n",
       "3    SZYNKA Z KOŚCIA    0.000    2.840   62.110    26.91   33.650   19.600   \n",
       "4   SZYNKA BEZ KOŚCI  177.450  213.170  385.080   219.12  215.273  180.250   \n",
       "\n",
       "   07_2015  08_2015  09_2015  10_2015  11_2015  12_2015  \n",
       "0  363.683  378.498  245.174  408.534   289.64   276.11  \n",
       "1  180.300  189.540  246.870  256.470   208.92   158.21  \n",
       "2  262.285  196.857  244.620  256.020   199.25   146.83  \n",
       "3   36.660   40.250   30.820   64.320    38.15    17.43  \n",
       "4  141.008  159.950  180.240  181.700   668.49   557.31  "
      ]
     },
     "execution_count": 369,
     "metadata": {},
     "output_type": "execute_result"
    }
   ],
   "source": [
    "i = 3\n",
    "for file in files_list_2015[2:]:\n",
    "    month = f'0{i}' if len(str(i)) == 1 else i\n",
    "    sum_sales_tmp_2015 = pd.read_excel(io=os.path.join(data_from_2015_path, f'kody nowe{month},15.xls'), )\n",
    "    sum_sales_tmp_2015 = sum_sales_tmp_2015.loc[0:49, ['Unnamed: 40', 'SUMA']]\n",
    "    sum_sales_tmp_2015.columns = ['Produkt', 'kg']\n",
    "    sales_2015[f'{month}_2015'] = sum_sales_tmp_2015['kg']\n",
    "    i += 1\n",
    "    \n",
    "sales_2015.head()"
   ]
  },
  {
   "cell_type": "code",
   "execution_count": 370,
   "metadata": {},
   "outputs": [
    {
     "name": "stdout",
     "output_type": "stream",
     "text": [
      "Wartość w wierszu 22, kolumnie '04_2015': 2312.9900000000007\n",
      "Wartość w wierszu 22, kolumnie '08_2015': 1155.64\n",
      "Wartość w wierszu 27, kolumnie '08_2015': 1047.75\n",
      "Wartość w wierszu 28, kolumnie '04_2015': 2144.5999999999995\n"
     ]
    }
   ],
   "source": [
    "#validation and cleaning\n",
    "\n",
    "def print_abnormal_values(row):\n",
    "    for column, value in row.items():\n",
    "        if value > 1000 or value < 0 or np.isnan(value):\n",
    "            print(f\"Wartość w wierszu {row.name}, kolumnie '{column}': {value}\")\n",
    "\n",
    "dont_print = sales_2015.iloc[:, 1:].apply(print_abnormal_values, axis=1)"
   ]
  },
  {
   "cell_type": "code",
   "execution_count": 371,
   "metadata": {},
   "outputs": [
    {
     "name": "stdout",
     "output_type": "stream",
     "text": [
      "<class 'pandas.core.frame.DataFrame'>\n",
      "RangeIndex: 50 entries, 0 to 49\n",
      "Data columns (total 13 columns):\n",
      " #   Column   Non-Null Count  Dtype  \n",
      "---  ------   --------------  -----  \n",
      " 0   Produkt  50 non-null     object \n",
      " 1   01_2015  50 non-null     float64\n",
      " 2   02_2015  50 non-null     float64\n",
      " 3   03_2015  50 non-null     float64\n",
      " 4   04_2015  50 non-null     float64\n",
      " 5   05_2015  50 non-null     float64\n",
      " 6   06_2015  50 non-null     float64\n",
      " 7   07_2015  50 non-null     float64\n",
      " 8   08_2015  50 non-null     float64\n",
      " 9   09_2015  50 non-null     float64\n",
      " 10  10_2015  50 non-null     float64\n",
      " 11  11_2015  50 non-null     float64\n",
      " 12  12_2015  50 non-null     float64\n",
      "dtypes: float64(12), object(1)\n",
      "memory usage: 5.2+ KB\n"
     ]
    }
   ],
   "source": [
    "sales_2015.info()\n",
    "\n",
    "sales_2015.to_csv('out/sales_2015.csv')"
   ]
  },
  {
   "cell_type": "markdown",
   "metadata": {},
   "source": [
    "### Now we have all the products and their sales in \"kg's\" from 2015, time to move on to 2016"
   ]
  },
  {
   "cell_type": "code",
   "execution_count": 372,
   "metadata": {},
   "outputs": [
    {
     "data": {
      "text/plain": [
       "['01,16.xls',\n",
       " '02,16.xls',\n",
       " '03,16.xls',\n",
       " '04,16.xls',\n",
       " '05,16.xls',\n",
       " '06,16.xls',\n",
       " '07,16.xls',\n",
       " '08,16.xls',\n",
       " '09,16.xls',\n",
       " '10,16.xls',\n",
       " '11,16.xls',\n",
       " '12,16.xls']"
      ]
     },
     "execution_count": 372,
     "metadata": {},
     "output_type": "execute_result"
    }
   ],
   "source": [
    "data_from_2016_path = './data/2016/'\n",
    "files_list_2016 = os.listdir(data_from_2016_path)\n",
    "files_list_2016"
   ]
  },
  {
   "cell_type": "code",
   "execution_count": 373,
   "metadata": {},
   "outputs": [
    {
     "data": {
      "text/html": [
       "<div>\n",
       "<style scoped>\n",
       "    .dataframe tbody tr th:only-of-type {\n",
       "        vertical-align: middle;\n",
       "    }\n",
       "\n",
       "    .dataframe tbody tr th {\n",
       "        vertical-align: top;\n",
       "    }\n",
       "\n",
       "    .dataframe thead th {\n",
       "        text-align: right;\n",
       "    }\n",
       "</style>\n",
       "<table border=\"1\" class=\"dataframe\">\n",
       "  <thead>\n",
       "    <tr style=\"text-align: right;\">\n",
       "      <th></th>\n",
       "      <th>Produkt</th>\n",
       "      <th>01_2016</th>\n",
       "      <th>02_2016</th>\n",
       "      <th>03_2016</th>\n",
       "      <th>04_2016</th>\n",
       "      <th>05_2016</th>\n",
       "      <th>06_2016</th>\n",
       "      <th>07_2016</th>\n",
       "      <th>08_2016</th>\n",
       "      <th>09_2016</th>\n",
       "      <th>10_2016</th>\n",
       "      <th>11_2016</th>\n",
       "      <th>12_2016</th>\n",
       "    </tr>\n",
       "  </thead>\n",
       "  <tbody>\n",
       "    <tr>\n",
       "      <th>0</th>\n",
       "      <td>SCHAB Z KOŚCIĄ</td>\n",
       "      <td>194.44</td>\n",
       "      <td>295.60</td>\n",
       "      <td>425.00</td>\n",
       "      <td>309.99</td>\n",
       "      <td>308.39</td>\n",
       "      <td>242.610</td>\n",
       "      <td>284.41</td>\n",
       "      <td>292.130</td>\n",
       "      <td>270.930</td>\n",
       "      <td>229.9520</td>\n",
       "      <td>368.002</td>\n",
       "      <td>541.142</td>\n",
       "    </tr>\n",
       "    <tr>\n",
       "      <th>1</th>\n",
       "      <td>SCHAB BEZ KOŚCI</td>\n",
       "      <td>198.94</td>\n",
       "      <td>252.44</td>\n",
       "      <td>352.85</td>\n",
       "      <td>362.01</td>\n",
       "      <td>350.60</td>\n",
       "      <td>417.511</td>\n",
       "      <td>367.87</td>\n",
       "      <td>341.420</td>\n",
       "      <td>379.100</td>\n",
       "      <td>425.1200</td>\n",
       "      <td>549.410</td>\n",
       "      <td>823.190</td>\n",
       "    </tr>\n",
       "    <tr>\n",
       "      <th>2</th>\n",
       "      <td>KARCZEK BEZ KOŚCI</td>\n",
       "      <td>171.30</td>\n",
       "      <td>179.90</td>\n",
       "      <td>338.16</td>\n",
       "      <td>246.74</td>\n",
       "      <td>284.78</td>\n",
       "      <td>323.350</td>\n",
       "      <td>272.53</td>\n",
       "      <td>280.492</td>\n",
       "      <td>305.440</td>\n",
       "      <td>323.6752</td>\n",
       "      <td>447.249</td>\n",
       "      <td>775.538</td>\n",
       "    </tr>\n",
       "    <tr>\n",
       "      <th>3</th>\n",
       "      <td>SZYNKA Z KOŚCIA</td>\n",
       "      <td>0.68</td>\n",
       "      <td>10.98</td>\n",
       "      <td>40.95</td>\n",
       "      <td>30.50</td>\n",
       "      <td>26.66</td>\n",
       "      <td>30.300</td>\n",
       "      <td>32.95</td>\n",
       "      <td>17.040</td>\n",
       "      <td>46.130</td>\n",
       "      <td>78.6400</td>\n",
       "      <td>76.812</td>\n",
       "      <td>118.880</td>\n",
       "    </tr>\n",
       "    <tr>\n",
       "      <th>4</th>\n",
       "      <td>SZYNKA BEZ KOŚCI</td>\n",
       "      <td>100.38</td>\n",
       "      <td>105.58</td>\n",
       "      <td>696.92</td>\n",
       "      <td>627.32</td>\n",
       "      <td>562.33</td>\n",
       "      <td>567.930</td>\n",
       "      <td>663.83</td>\n",
       "      <td>535.870</td>\n",
       "      <td>616.561</td>\n",
       "      <td>812.5100</td>\n",
       "      <td>623.460</td>\n",
       "      <td>676.417</td>\n",
       "    </tr>\n",
       "  </tbody>\n",
       "</table>\n",
       "</div>"
      ],
      "text/plain": [
       "             Produkt  01_2016  02_2016  03_2016  04_2016  05_2016  06_2016  \\\n",
       "0     SCHAB Z KOŚCIĄ   194.44   295.60   425.00   309.99   308.39  242.610   \n",
       "1    SCHAB BEZ KOŚCI   198.94   252.44   352.85   362.01   350.60  417.511   \n",
       "2  KARCZEK BEZ KOŚCI   171.30   179.90   338.16   246.74   284.78  323.350   \n",
       "3    SZYNKA Z KOŚCIA     0.68    10.98    40.95    30.50    26.66   30.300   \n",
       "4   SZYNKA BEZ KOŚCI   100.38   105.58   696.92   627.32   562.33  567.930   \n",
       "\n",
       "   07_2016  08_2016  09_2016   10_2016  11_2016  12_2016  \n",
       "0   284.41  292.130  270.930  229.9520  368.002  541.142  \n",
       "1   367.87  341.420  379.100  425.1200  549.410  823.190  \n",
       "2   272.53  280.492  305.440  323.6752  447.249  775.538  \n",
       "3    32.95   17.040   46.130   78.6400   76.812  118.880  \n",
       "4   663.83  535.870  616.561  812.5100  623.460  676.417  "
      ]
     },
     "execution_count": 373,
     "metadata": {},
     "output_type": "execute_result"
    }
   ],
   "source": [
    "sales_2016 = pd.DataFrame(sales_2015['Produkt'])\n",
    "\n",
    "for index, file in enumerate(files_list_2016):\n",
    "    month = f'0{index+1}' if len(str(index+1)) == 1 else str(index+1)\n",
    "    sum_sales_tmp_2016 = pd.read_excel(io=os.path.join(data_from_2016_path, f'{month},16.xls'), )\n",
    "    sum_sales_tmp_2016 = sum_sales_tmp_2016.loc[0:49, ['Unnamed: 40', 'SUMA']]\n",
    "    sum_sales_tmp_2016.columns = ['Produkt', 'kg']\n",
    "    sales_2016[f'{month}_2016'] = sum_sales_tmp_2016['kg']\n",
    "\n",
    "sales_2016.head()"
   ]
  },
  {
   "cell_type": "code",
   "execution_count": 374,
   "metadata": {},
   "outputs": [
    {
     "name": "stdout",
     "output_type": "stream",
     "text": [
      "Wartość w wierszu 6, kolumnie '12_2016': 1042.7820000000002\n",
      "Wartość w wierszu 9, kolumnie '12_2016': 1417.4700000000003\n",
      "Wartość w wierszu 13, kolumnie '12_2016': 1048.601\n",
      "Wartość w wierszu 14, kolumnie '11_2016': 1158.2029999999997\n",
      "Wartość w wierszu 14, kolumnie '12_2016': 1488.082\n"
     ]
    }
   ],
   "source": [
    "dont_print = sales_2016.iloc[:, 1:].apply(print_abnormal_values, axis=1)"
   ]
  },
  {
   "cell_type": "code",
   "execution_count": 375,
   "metadata": {},
   "outputs": [
    {
     "name": "stdout",
     "output_type": "stream",
     "text": [
      "<class 'pandas.core.frame.DataFrame'>\n",
      "RangeIndex: 50 entries, 0 to 49\n",
      "Data columns (total 13 columns):\n",
      " #   Column   Non-Null Count  Dtype  \n",
      "---  ------   --------------  -----  \n",
      " 0   Produkt  50 non-null     object \n",
      " 1   01_2016  50 non-null     float64\n",
      " 2   02_2016  50 non-null     float64\n",
      " 3   03_2016  50 non-null     float64\n",
      " 4   04_2016  50 non-null     float64\n",
      " 5   05_2016  50 non-null     float64\n",
      " 6   06_2016  50 non-null     float64\n",
      " 7   07_2016  50 non-null     float64\n",
      " 8   08_2016  50 non-null     float64\n",
      " 9   09_2016  50 non-null     float64\n",
      " 10  10_2016  50 non-null     float64\n",
      " 11  11_2016  50 non-null     float64\n",
      " 12  12_2016  50 non-null     float64\n",
      "dtypes: float64(12), object(1)\n",
      "memory usage: 5.2+ KB\n"
     ]
    }
   ],
   "source": [
    "sales_2016.info()\n",
    "\n",
    "sales_2016.to_csv('out/sales_2016.csv')"
   ]
  },
  {
   "cell_type": "markdown",
   "metadata": {},
   "source": [
    "### 2017 below\n"
   ]
  },
  {
   "cell_type": "code",
   "execution_count": 376,
   "metadata": {},
   "outputs": [
    {
     "data": {
      "text/plain": [
       "['01,017.xls',\n",
       " '02,017.xls',\n",
       " '03,017.xls',\n",
       " '04,017.xls',\n",
       " '05,017.xls',\n",
       " '06,017.xls',\n",
       " '07,017.xls',\n",
       " '08,017.xls',\n",
       " '09,017.xls',\n",
       " '10,017.xls',\n",
       " '11,017.xls',\n",
       " '12,017.xls']"
      ]
     },
     "execution_count": 376,
     "metadata": {},
     "output_type": "execute_result"
    }
   ],
   "source": [
    "data_from_2017_path = './data/2017/'\n",
    "files_list_2017 = os.listdir(data_from_2017_path)\n",
    "files_list_2017.pop()\n",
    "files_list_2017.pop()\n",
    "files_list_2017"
   ]
  },
  {
   "cell_type": "code",
   "execution_count": 377,
   "metadata": {},
   "outputs": [
    {
     "data": {
      "text/html": [
       "<div>\n",
       "<style scoped>\n",
       "    .dataframe tbody tr th:only-of-type {\n",
       "        vertical-align: middle;\n",
       "    }\n",
       "\n",
       "    .dataframe tbody tr th {\n",
       "        vertical-align: top;\n",
       "    }\n",
       "\n",
       "    .dataframe thead th {\n",
       "        text-align: right;\n",
       "    }\n",
       "</style>\n",
       "<table border=\"1\" class=\"dataframe\">\n",
       "  <thead>\n",
       "    <tr style=\"text-align: right;\">\n",
       "      <th></th>\n",
       "      <th>Produkt</th>\n",
       "      <th>01_2017</th>\n",
       "      <th>02_2017</th>\n",
       "      <th>03_2017</th>\n",
       "      <th>04_2017</th>\n",
       "      <th>05_2017</th>\n",
       "      <th>06_2017</th>\n",
       "      <th>07_2017</th>\n",
       "      <th>08_2017</th>\n",
       "      <th>09_2017</th>\n",
       "      <th>10_2017</th>\n",
       "      <th>11_2017</th>\n",
       "      <th>12_2017</th>\n",
       "    </tr>\n",
       "  </thead>\n",
       "  <tbody>\n",
       "    <tr>\n",
       "      <th>0</th>\n",
       "      <td>SCHAB Z KOŚCIĄ</td>\n",
       "      <td>121.510</td>\n",
       "      <td>346.560</td>\n",
       "      <td>384.670</td>\n",
       "      <td>462.770</td>\n",
       "      <td>397.309</td>\n",
       "      <td>365.431</td>\n",
       "      <td>427.063</td>\n",
       "      <td>294.29</td>\n",
       "      <td>343.300</td>\n",
       "      <td>310.920</td>\n",
       "      <td>140.283</td>\n",
       "      <td>455.133</td>\n",
       "    </tr>\n",
       "    <tr>\n",
       "      <th>1</th>\n",
       "      <td>SCHAB BEZ KOŚCI</td>\n",
       "      <td>202.943</td>\n",
       "      <td>411.753</td>\n",
       "      <td>615.360</td>\n",
       "      <td>774.810</td>\n",
       "      <td>587.300</td>\n",
       "      <td>592.250</td>\n",
       "      <td>542.130</td>\n",
       "      <td>618.64</td>\n",
       "      <td>525.260</td>\n",
       "      <td>520.200</td>\n",
       "      <td>864.970</td>\n",
       "      <td>1330.400</td>\n",
       "    </tr>\n",
       "    <tr>\n",
       "      <th>2</th>\n",
       "      <td>KARCZEK BEZ KOŚCI</td>\n",
       "      <td>10609.486</td>\n",
       "      <td>437.077</td>\n",
       "      <td>573.560</td>\n",
       "      <td>743.210</td>\n",
       "      <td>566.010</td>\n",
       "      <td>671.950</td>\n",
       "      <td>549.698</td>\n",
       "      <td>482.59</td>\n",
       "      <td>510.605</td>\n",
       "      <td>550.394</td>\n",
       "      <td>364.162</td>\n",
       "      <td>1113.422</td>\n",
       "    </tr>\n",
       "    <tr>\n",
       "      <th>3</th>\n",
       "      <td>SZYNKA Z KOŚCIA</td>\n",
       "      <td>0.000</td>\n",
       "      <td>62.300</td>\n",
       "      <td>77.500</td>\n",
       "      <td>185.200</td>\n",
       "      <td>129.800</td>\n",
       "      <td>173.200</td>\n",
       "      <td>172.630</td>\n",
       "      <td>44.60</td>\n",
       "      <td>109.200</td>\n",
       "      <td>127.350</td>\n",
       "      <td>4163.350</td>\n",
       "      <td>295.460</td>\n",
       "    </tr>\n",
       "    <tr>\n",
       "      <th>4</th>\n",
       "      <td>SZYNKA BEZ KOŚCI</td>\n",
       "      <td>142.620</td>\n",
       "      <td>653.250</td>\n",
       "      <td>1282.742</td>\n",
       "      <td>838.624</td>\n",
       "      <td>753.236</td>\n",
       "      <td>501.160</td>\n",
       "      <td>729.870</td>\n",
       "      <td>466.00</td>\n",
       "      <td>384.820</td>\n",
       "      <td>339.650</td>\n",
       "      <td>455.880</td>\n",
       "      <td>774.290</td>\n",
       "    </tr>\n",
       "  </tbody>\n",
       "</table>\n",
       "</div>"
      ],
      "text/plain": [
       "             Produkt    01_2017  02_2017   03_2017  04_2017  05_2017  06_2017  \\\n",
       "0     SCHAB Z KOŚCIĄ    121.510  346.560   384.670  462.770  397.309  365.431   \n",
       "1    SCHAB BEZ KOŚCI    202.943  411.753   615.360  774.810  587.300  592.250   \n",
       "2  KARCZEK BEZ KOŚCI  10609.486  437.077   573.560  743.210  566.010  671.950   \n",
       "3    SZYNKA Z KOŚCIA      0.000   62.300    77.500  185.200  129.800  173.200   \n",
       "4   SZYNKA BEZ KOŚCI    142.620  653.250  1282.742  838.624  753.236  501.160   \n",
       "\n",
       "   07_2017  08_2017  09_2017  10_2017   11_2017   12_2017  \n",
       "0  427.063   294.29  343.300  310.920   140.283   455.133  \n",
       "1  542.130   618.64  525.260  520.200   864.970  1330.400  \n",
       "2  549.698   482.59  510.605  550.394   364.162  1113.422  \n",
       "3  172.630    44.60  109.200  127.350  4163.350   295.460  \n",
       "4  729.870   466.00  384.820  339.650   455.880   774.290  "
      ]
     },
     "execution_count": 377,
     "metadata": {},
     "output_type": "execute_result"
    }
   ],
   "source": [
    "sales_2017 = pd.DataFrame(sales_2015['Produkt'])\n",
    "\n",
    "for index, file in enumerate(files_list_2017):\n",
    "    month = f'0{index+1}' if len(str(index+1)) == 1 else str(index+1)\n",
    "    sum_sales_tmp_2017 = pd.read_excel(io=os.path.join(data_from_2017_path, f'{month},017.xls'), )\n",
    "    sum_sales_tmp_2017 = sum_sales_tmp_2017.loc[0:49, ['Unnamed: 40', 'SUMA']]\n",
    "    sum_sales_tmp_2017.columns = ['Produkt', 'kg']\n",
    "    sales_2017[f'{month}_2017'] = sum_sales_tmp_2017['kg']\n",
    "\n",
    "sales_2017.head()"
   ]
  },
  {
   "cell_type": "code",
   "execution_count": 378,
   "metadata": {},
   "outputs": [
    {
     "name": "stdout",
     "output_type": "stream",
     "text": [
      "Wartość w wierszu 1, kolumnie '12_2017': 1330.3999999999996\n",
      "Wartość w wierszu 2, kolumnie '01_2017': 1060.9486000000002\n",
      "Wartość w wierszu 2, kolumnie '12_2017': 1113.4220000000003\n",
      "Wartość w wierszu 4, kolumnie '03_2017': 1282.742\n",
      "Wartość w wierszu 9, kolumnie '12_2017': 1189.22\n"
     ]
    }
   ],
   "source": [
    "sales_2017.loc[2,'01_2017'] /= 10\n",
    "sales_2017.loc[3,'11_2017'] /= 10\n",
    "\n",
    "dont_print = sales_2017.iloc[:, 1:].apply(print_abnormal_values, axis=1)"
   ]
  },
  {
   "cell_type": "code",
   "execution_count": 379,
   "metadata": {},
   "outputs": [
    {
     "name": "stdout",
     "output_type": "stream",
     "text": [
      "<class 'pandas.core.frame.DataFrame'>\n",
      "RangeIndex: 50 entries, 0 to 49\n",
      "Data columns (total 13 columns):\n",
      " #   Column   Non-Null Count  Dtype  \n",
      "---  ------   --------------  -----  \n",
      " 0   Produkt  50 non-null     object \n",
      " 1   01_2017  50 non-null     float64\n",
      " 2   02_2017  50 non-null     float64\n",
      " 3   03_2017  50 non-null     float64\n",
      " 4   04_2017  50 non-null     float64\n",
      " 5   05_2017  50 non-null     float64\n",
      " 6   06_2017  50 non-null     float64\n",
      " 7   07_2017  50 non-null     float64\n",
      " 8   08_2017  50 non-null     float64\n",
      " 9   09_2017  50 non-null     float64\n",
      " 10  10_2017  50 non-null     float64\n",
      " 11  11_2017  50 non-null     float64\n",
      " 12  12_2017  50 non-null     float64\n",
      "dtypes: float64(12), object(1)\n",
      "memory usage: 5.2+ KB\n"
     ]
    }
   ],
   "source": [
    "sales_2017.info()\n",
    "\n",
    "sales_2017.to_csv('out/sales_2017.csv')"
   ]
  },
  {
   "cell_type": "markdown",
   "metadata": {},
   "source": [
    "### 2018 below\n"
   ]
  },
  {
   "cell_type": "code",
   "execution_count": 380,
   "metadata": {},
   "outputs": [
    {
     "data": {
      "text/plain": [
       "['01,18.xls',\n",
       " '02,18.xls',\n",
       " '03,18.xls',\n",
       " '04,18.xls',\n",
       " '05,18.xls',\n",
       " '06,18.xls',\n",
       " '07,18.xls',\n",
       " '08,18.xls',\n",
       " '09,18.xls',\n",
       " '10,18.xls',\n",
       " '11,18.xls',\n",
       " '12,18.xls']"
      ]
     },
     "execution_count": 380,
     "metadata": {},
     "output_type": "execute_result"
    }
   ],
   "source": [
    "data_from_2018_path = './data/2018/'\n",
    "files_list_2018 = os.listdir(data_from_2018_path)\n",
    "files_list_2018"
   ]
  },
  {
   "cell_type": "code",
   "execution_count": 381,
   "metadata": {},
   "outputs": [
    {
     "data": {
      "text/html": [
       "<div>\n",
       "<style scoped>\n",
       "    .dataframe tbody tr th:only-of-type {\n",
       "        vertical-align: middle;\n",
       "    }\n",
       "\n",
       "    .dataframe tbody tr th {\n",
       "        vertical-align: top;\n",
       "    }\n",
       "\n",
       "    .dataframe thead th {\n",
       "        text-align: right;\n",
       "    }\n",
       "</style>\n",
       "<table border=\"1\" class=\"dataframe\">\n",
       "  <thead>\n",
       "    <tr style=\"text-align: right;\">\n",
       "      <th></th>\n",
       "      <th>Produkt</th>\n",
       "      <th>01_2018</th>\n",
       "      <th>02_2018</th>\n",
       "      <th>03_2018</th>\n",
       "      <th>04_2018</th>\n",
       "      <th>05_2018</th>\n",
       "      <th>06_2018</th>\n",
       "      <th>07_2018</th>\n",
       "      <th>08_2018</th>\n",
       "      <th>09_2018</th>\n",
       "      <th>10_2018</th>\n",
       "      <th>11_2018</th>\n",
       "      <th>12_2018</th>\n",
       "    </tr>\n",
       "  </thead>\n",
       "  <tbody>\n",
       "    <tr>\n",
       "      <th>0</th>\n",
       "      <td>SCHAB Z KOŚCIĄ</td>\n",
       "      <td>280.470</td>\n",
       "      <td>287.03</td>\n",
       "      <td>392.291</td>\n",
       "      <td>287.3100</td>\n",
       "      <td>358.763</td>\n",
       "      <td>324.23</td>\n",
       "      <td>307.258</td>\n",
       "      <td>284.238</td>\n",
       "      <td>278.94</td>\n",
       "      <td>330.150</td>\n",
       "      <td>250.02</td>\n",
       "      <td>310.09</td>\n",
       "    </tr>\n",
       "    <tr>\n",
       "      <th>1</th>\n",
       "      <td>SCHAB BEZ KOŚCI</td>\n",
       "      <td>403.460</td>\n",
       "      <td>486.58</td>\n",
       "      <td>914.860</td>\n",
       "      <td>529.2443</td>\n",
       "      <td>537.300</td>\n",
       "      <td>457.52</td>\n",
       "      <td>770.230</td>\n",
       "      <td>457.990</td>\n",
       "      <td>498.90</td>\n",
       "      <td>570.759</td>\n",
       "      <td>538.55</td>\n",
       "      <td>864.25</td>\n",
       "    </tr>\n",
       "    <tr>\n",
       "      <th>2</th>\n",
       "      <td>KARCZEK BEZ KOŚCI</td>\n",
       "      <td>383.192</td>\n",
       "      <td>413.76</td>\n",
       "      <td>886.757</td>\n",
       "      <td>542.4820</td>\n",
       "      <td>499.100</td>\n",
       "      <td>512.16</td>\n",
       "      <td>501.245</td>\n",
       "      <td>454.680</td>\n",
       "      <td>522.45</td>\n",
       "      <td>546.130</td>\n",
       "      <td>482.40</td>\n",
       "      <td>745.04</td>\n",
       "    </tr>\n",
       "    <tr>\n",
       "      <th>3</th>\n",
       "      <td>SZYNKA Z KOŚCIA</td>\n",
       "      <td>124.100</td>\n",
       "      <td>83.65</td>\n",
       "      <td>189.630</td>\n",
       "      <td>160.2600</td>\n",
       "      <td>213.000</td>\n",
       "      <td>180.14</td>\n",
       "      <td>178.750</td>\n",
       "      <td>185.700</td>\n",
       "      <td>204.17</td>\n",
       "      <td>323.520</td>\n",
       "      <td>314.85</td>\n",
       "      <td>350.11</td>\n",
       "    </tr>\n",
       "    <tr>\n",
       "      <th>4</th>\n",
       "      <td>SZYNKA BEZ KOŚCI</td>\n",
       "      <td>308.800</td>\n",
       "      <td>468.47</td>\n",
       "      <td>871.840</td>\n",
       "      <td>385.5400</td>\n",
       "      <td>391.210</td>\n",
       "      <td>289.53</td>\n",
       "      <td>293.093</td>\n",
       "      <td>219.660</td>\n",
       "      <td>241.27</td>\n",
       "      <td>295.332</td>\n",
       "      <td>374.13</td>\n",
       "      <td>633.46</td>\n",
       "    </tr>\n",
       "  </tbody>\n",
       "</table>\n",
       "</div>"
      ],
      "text/plain": [
       "             Produkt  01_2018  02_2018  03_2018   04_2018  05_2018  06_2018  \\\n",
       "0     SCHAB Z KOŚCIĄ  280.470   287.03  392.291  287.3100  358.763   324.23   \n",
       "1    SCHAB BEZ KOŚCI  403.460   486.58  914.860  529.2443  537.300   457.52   \n",
       "2  KARCZEK BEZ KOŚCI  383.192   413.76  886.757  542.4820  499.100   512.16   \n",
       "3    SZYNKA Z KOŚCIA  124.100    83.65  189.630  160.2600  213.000   180.14   \n",
       "4   SZYNKA BEZ KOŚCI  308.800   468.47  871.840  385.5400  391.210   289.53   \n",
       "\n",
       "   07_2018  08_2018  09_2018  10_2018  11_2018  12_2018  \n",
       "0  307.258  284.238   278.94  330.150   250.02   310.09  \n",
       "1  770.230  457.990   498.90  570.759   538.55   864.25  \n",
       "2  501.245  454.680   522.45  546.130   482.40   745.04  \n",
       "3  178.750  185.700   204.17  323.520   314.85   350.11  \n",
       "4  293.093  219.660   241.27  295.332   374.13   633.46  "
      ]
     },
     "execution_count": 381,
     "metadata": {},
     "output_type": "execute_result"
    }
   ],
   "source": [
    "sales_2018 = pd.DataFrame(sales_2015['Produkt'])\n",
    "\n",
    "for index, file in enumerate(files_list_2018):\n",
    "    month = f'0{index+1}' if len(str(index+1)) == 1 else str(index+1)\n",
    "    sum_sales_tmp_2018 = pd.read_excel(io=os.path.join(data_from_2018_path, f'{month},18.xls'), )\n",
    "    sum_sales_tmp_2018 = sum_sales_tmp_2018.loc[0:49, ['Unnamed: 40', 'SUMA']]\n",
    "    sum_sales_tmp_2018.columns = ['Produkt', 'kg']\n",
    "    sales_2018[f'{month}_2018'] = sum_sales_tmp_2018['kg']\n",
    "\n",
    "sales_2018.head()"
   ]
  },
  {
   "cell_type": "code",
   "execution_count": 382,
   "metadata": {},
   "outputs": [
    {
     "name": "stdout",
     "output_type": "stream",
     "text": [
      "Wartość w wierszu 5, kolumnie '03_2018': 1162.43\n",
      "Wartość w wierszu 6, kolumnie '03_2018': 1101.201\n",
      "Wartość w wierszu 9, kolumnie '03_2018': 1722.6999999999998\n",
      "Wartość w wierszu 24, kolumnie '10_2018': 1025.48\n"
     ]
    }
   ],
   "source": [
    "dont_print = sales_2018.iloc[:, 1:].apply(print_abnormal_values, axis=1)"
   ]
  },
  {
   "cell_type": "code",
   "execution_count": 383,
   "metadata": {},
   "outputs": [
    {
     "name": "stdout",
     "output_type": "stream",
     "text": [
      "<class 'pandas.core.frame.DataFrame'>\n",
      "RangeIndex: 50 entries, 0 to 49\n",
      "Data columns (total 13 columns):\n",
      " #   Column   Non-Null Count  Dtype  \n",
      "---  ------   --------------  -----  \n",
      " 0   Produkt  50 non-null     object \n",
      " 1   01_2018  50 non-null     float64\n",
      " 2   02_2018  50 non-null     float64\n",
      " 3   03_2018  50 non-null     float64\n",
      " 4   04_2018  50 non-null     float64\n",
      " 5   05_2018  50 non-null     float64\n",
      " 6   06_2018  50 non-null     float64\n",
      " 7   07_2018  50 non-null     float64\n",
      " 8   08_2018  50 non-null     float64\n",
      " 9   09_2018  50 non-null     float64\n",
      " 10  10_2018  50 non-null     float64\n",
      " 11  11_2018  50 non-null     float64\n",
      " 12  12_2018  50 non-null     float64\n",
      "dtypes: float64(12), object(1)\n",
      "memory usage: 5.2+ KB\n"
     ]
    }
   ],
   "source": [
    "sales_2018.info()\n",
    "\n",
    "sales_2018.to_csv('out/sales_2018.csv')"
   ]
  },
  {
   "cell_type": "markdown",
   "metadata": {},
   "source": [
    "### 2019 below\n"
   ]
  },
  {
   "cell_type": "code",
   "execution_count": 384,
   "metadata": {},
   "outputs": [
    {
     "data": {
      "text/plain": [
       "['01,19.xls',\n",
       " '02,19.xls',\n",
       " '03,19.xls',\n",
       " '04,19.xls',\n",
       " '05,19.xls',\n",
       " '06,19.xls',\n",
       " '07,19.xls',\n",
       " '08,19.xls',\n",
       " '09,19.xls',\n",
       " '10,19.xls',\n",
       " '11,19.xls',\n",
       " '12,19.xls']"
      ]
     },
     "execution_count": 384,
     "metadata": {},
     "output_type": "execute_result"
    }
   ],
   "source": [
    "data_from_2019_path = './data/2019/'\n",
    "files_list_2019 = os.listdir(data_from_2019_path)\n",
    "files_list_2019.pop()\n",
    "files_list_2019.pop()\n",
    "files_list_2019.pop()\n",
    "files_list_2019"
   ]
  },
  {
   "cell_type": "code",
   "execution_count": 385,
   "metadata": {},
   "outputs": [
    {
     "data": {
      "text/html": [
       "<div>\n",
       "<style scoped>\n",
       "    .dataframe tbody tr th:only-of-type {\n",
       "        vertical-align: middle;\n",
       "    }\n",
       "\n",
       "    .dataframe tbody tr th {\n",
       "        vertical-align: top;\n",
       "    }\n",
       "\n",
       "    .dataframe thead th {\n",
       "        text-align: right;\n",
       "    }\n",
       "</style>\n",
       "<table border=\"1\" class=\"dataframe\">\n",
       "  <thead>\n",
       "    <tr style=\"text-align: right;\">\n",
       "      <th></th>\n",
       "      <th>Produkt</th>\n",
       "      <th>01_2019</th>\n",
       "      <th>02_2019</th>\n",
       "      <th>03_2019</th>\n",
       "      <th>04_2019</th>\n",
       "      <th>05_2019</th>\n",
       "      <th>06_2019</th>\n",
       "      <th>07_2019</th>\n",
       "      <th>08_2019</th>\n",
       "      <th>09_2019</th>\n",
       "      <th>10_2019</th>\n",
       "      <th>11_2019</th>\n",
       "      <th>12_2019</th>\n",
       "    </tr>\n",
       "  </thead>\n",
       "  <tbody>\n",
       "    <tr>\n",
       "      <th>0</th>\n",
       "      <td>SCHAB Z KOŚCIĄ</td>\n",
       "      <td>324.310</td>\n",
       "      <td>278.768</td>\n",
       "      <td>340.75</td>\n",
       "      <td>420.9300</td>\n",
       "      <td>319.00</td>\n",
       "      <td>293.150</td>\n",
       "      <td>321.190</td>\n",
       "      <td>311.720</td>\n",
       "      <td>345.115</td>\n",
       "      <td>377.800</td>\n",
       "      <td>267.350</td>\n",
       "      <td>426.130</td>\n",
       "    </tr>\n",
       "    <tr>\n",
       "      <th>1</th>\n",
       "      <td>SCHAB BEZ KOŚCI</td>\n",
       "      <td>427.230</td>\n",
       "      <td>415.133</td>\n",
       "      <td>478.57</td>\n",
       "      <td>669.2000</td>\n",
       "      <td>556.00</td>\n",
       "      <td>385.420</td>\n",
       "      <td>510.680</td>\n",
       "      <td>571.668</td>\n",
       "      <td>455.610</td>\n",
       "      <td>521.722</td>\n",
       "      <td>502.210</td>\n",
       "      <td>1174.740</td>\n",
       "    </tr>\n",
       "    <tr>\n",
       "      <th>2</th>\n",
       "      <td>KARCZEK BEZ KOŚCI</td>\n",
       "      <td>343.926</td>\n",
       "      <td>380.170</td>\n",
       "      <td>421.91</td>\n",
       "      <td>844.3612</td>\n",
       "      <td>540.85</td>\n",
       "      <td>429.778</td>\n",
       "      <td>730.732</td>\n",
       "      <td>523.063</td>\n",
       "      <td>529.850</td>\n",
       "      <td>739.210</td>\n",
       "      <td>567.494</td>\n",
       "      <td>965.727</td>\n",
       "    </tr>\n",
       "    <tr>\n",
       "      <th>3</th>\n",
       "      <td>SZYNKA Z KOŚCIA</td>\n",
       "      <td>316.030</td>\n",
       "      <td>182.010</td>\n",
       "      <td>151.34</td>\n",
       "      <td>427.9700</td>\n",
       "      <td>250.00</td>\n",
       "      <td>202.970</td>\n",
       "      <td>83.940</td>\n",
       "      <td>91.500</td>\n",
       "      <td>54.000</td>\n",
       "      <td>142.600</td>\n",
       "      <td>96.500</td>\n",
       "      <td>37.300</td>\n",
       "    </tr>\n",
       "    <tr>\n",
       "      <th>4</th>\n",
       "      <td>SZYNKA BEZ KOŚCI</td>\n",
       "      <td>213.830</td>\n",
       "      <td>293.030</td>\n",
       "      <td>428.23</td>\n",
       "      <td>666.0000</td>\n",
       "      <td>299.13</td>\n",
       "      <td>358.910</td>\n",
       "      <td>582.020</td>\n",
       "      <td>555.110</td>\n",
       "      <td>421.250</td>\n",
       "      <td>633.080</td>\n",
       "      <td>972.270</td>\n",
       "      <td>1226.100</td>\n",
       "    </tr>\n",
       "  </tbody>\n",
       "</table>\n",
       "</div>"
      ],
      "text/plain": [
       "             Produkt  01_2019  02_2019  03_2019   04_2019  05_2019  06_2019  \\\n",
       "0     SCHAB Z KOŚCIĄ  324.310  278.768   340.75  420.9300   319.00  293.150   \n",
       "1    SCHAB BEZ KOŚCI  427.230  415.133   478.57  669.2000   556.00  385.420   \n",
       "2  KARCZEK BEZ KOŚCI  343.926  380.170   421.91  844.3612   540.85  429.778   \n",
       "3    SZYNKA Z KOŚCIA  316.030  182.010   151.34  427.9700   250.00  202.970   \n",
       "4   SZYNKA BEZ KOŚCI  213.830  293.030   428.23  666.0000   299.13  358.910   \n",
       "\n",
       "   07_2019  08_2019  09_2019  10_2019  11_2019   12_2019  \n",
       "0  321.190  311.720  345.115  377.800  267.350   426.130  \n",
       "1  510.680  571.668  455.610  521.722  502.210  1174.740  \n",
       "2  730.732  523.063  529.850  739.210  567.494   965.727  \n",
       "3   83.940   91.500   54.000  142.600   96.500    37.300  \n",
       "4  582.020  555.110  421.250  633.080  972.270  1226.100  "
      ]
     },
     "execution_count": 385,
     "metadata": {},
     "output_type": "execute_result"
    }
   ],
   "source": [
    "sales_2019 = pd.DataFrame(sales_2015['Produkt'])\n",
    "\n",
    "for index, file in enumerate(files_list_2019):\n",
    "    month = f'0{index+1}' if len(str(index+1)) == 1 else str(index+1)\n",
    "    sum_sales_tmp_2019 = pd.read_excel(io=os.path.join(data_from_2019_path, f'{month},19.xls'), )\n",
    "    sum_sales_tmp_2019 = sum_sales_tmp_2019.loc[0:49, ['Unnamed: 40', 'SUMA']]\n",
    "    sum_sales_tmp_2019.columns = ['Produkt', 'kg']\n",
    "    sales_2019[f'{month}_2019'] = sum_sales_tmp_2019['kg']\n",
    "\n",
    "sales_2019.head()"
   ]
  },
  {
   "cell_type": "code",
   "execution_count": 386,
   "metadata": {},
   "outputs": [
    {
     "name": "stdout",
     "output_type": "stream",
     "text": [
      "Wartość w wierszu 1, kolumnie '12_2019': 1174.7400000000005\n",
      "Wartość w wierszu 4, kolumnie '12_2019': 1226.1000000000001\n",
      "Wartość w wierszu 5, kolumnie '12_2019': 1079.759\n",
      "Wartość w wierszu 6, kolumnie '10_2019': 1519.0720000000001\n",
      "Wartość w wierszu 6, kolumnie '12_2019': 1352.49\n",
      "Wartość w wierszu 9, kolumnie '04_2019': 1033.35\n",
      "Wartość w wierszu 9, kolumnie '12_2019': 1175.49\n",
      "Wartość w wierszu 14, kolumnie '11_2019': 1024.21\n",
      "Wartość w wierszu 28, kolumnie '09_2019': 1041.02\n"
     ]
    }
   ],
   "source": [
    "dont_print = sales_2019.iloc[:, 1:].apply(print_abnormal_values, axis=1)"
   ]
  },
  {
   "cell_type": "code",
   "execution_count": 387,
   "metadata": {},
   "outputs": [
    {
     "name": "stdout",
     "output_type": "stream",
     "text": [
      "<class 'pandas.core.frame.DataFrame'>\n",
      "RangeIndex: 50 entries, 0 to 49\n",
      "Data columns (total 13 columns):\n",
      " #   Column   Non-Null Count  Dtype  \n",
      "---  ------   --------------  -----  \n",
      " 0   Produkt  50 non-null     object \n",
      " 1   01_2019  50 non-null     float64\n",
      " 2   02_2019  50 non-null     float64\n",
      " 3   03_2019  50 non-null     float64\n",
      " 4   04_2019  50 non-null     float64\n",
      " 5   05_2019  50 non-null     float64\n",
      " 6   06_2019  50 non-null     float64\n",
      " 7   07_2019  50 non-null     float64\n",
      " 8   08_2019  50 non-null     float64\n",
      " 9   09_2019  50 non-null     float64\n",
      " 10  10_2019  50 non-null     float64\n",
      " 11  11_2019  50 non-null     float64\n",
      " 12  12_2019  50 non-null     float64\n",
      "dtypes: float64(12), object(1)\n",
      "memory usage: 5.2+ KB\n"
     ]
    }
   ],
   "source": [
    "sales_2019.info()\n",
    "\n",
    "sales_2019.to_csv('out/sales_2019.csv')"
   ]
  },
  {
   "cell_type": "markdown",
   "metadata": {},
   "source": [
    "### 2020 below"
   ]
  },
  {
   "cell_type": "code",
   "execution_count": 388,
   "metadata": {},
   "outputs": [
    {
     "data": {
      "text/plain": [
       "['01,20.xls',\n",
       " '02,20.xls',\n",
       " '03,20.xls',\n",
       " '04,20.xls',\n",
       " '05,20.xls',\n",
       " '06,20.xls',\n",
       " '07,20.xls',\n",
       " '08,20.xls',\n",
       " '09,20.xls',\n",
       " '10,20.xls',\n",
       " '11,20.xls',\n",
       " '12,20.xls']"
      ]
     },
     "execution_count": 388,
     "metadata": {},
     "output_type": "execute_result"
    }
   ],
   "source": [
    "data_from_2020_path = './data/2020/'\n",
    "files_list_2020 = os.listdir(data_from_2020_path)\n",
    "files_list_2020.pop()\n",
    "files_list_2020.pop()\n",
    "files_list_2020"
   ]
  },
  {
   "cell_type": "code",
   "execution_count": 389,
   "metadata": {},
   "outputs": [
    {
     "data": {
      "text/html": [
       "<div>\n",
       "<style scoped>\n",
       "    .dataframe tbody tr th:only-of-type {\n",
       "        vertical-align: middle;\n",
       "    }\n",
       "\n",
       "    .dataframe tbody tr th {\n",
       "        vertical-align: top;\n",
       "    }\n",
       "\n",
       "    .dataframe thead th {\n",
       "        text-align: right;\n",
       "    }\n",
       "</style>\n",
       "<table border=\"1\" class=\"dataframe\">\n",
       "  <thead>\n",
       "    <tr style=\"text-align: right;\">\n",
       "      <th></th>\n",
       "      <th>Produkt</th>\n",
       "      <th>01_2020</th>\n",
       "      <th>02_2020</th>\n",
       "      <th>03_2020</th>\n",
       "      <th>04_2020</th>\n",
       "      <th>05_2020</th>\n",
       "      <th>06_2020</th>\n",
       "      <th>07_2020</th>\n",
       "      <th>08_2020</th>\n",
       "      <th>09_2020</th>\n",
       "      <th>10_2020</th>\n",
       "      <th>11_2020</th>\n",
       "      <th>12_2020</th>\n",
       "    </tr>\n",
       "  </thead>\n",
       "  <tbody>\n",
       "    <tr>\n",
       "      <th>0</th>\n",
       "      <td>SCHAB Z KOŚCIĄ</td>\n",
       "      <td>270.44</td>\n",
       "      <td>325.73</td>\n",
       "      <td>366.330</td>\n",
       "      <td>300.420</td>\n",
       "      <td>207.278</td>\n",
       "      <td>244.955</td>\n",
       "      <td>223.640</td>\n",
       "      <td>208.11</td>\n",
       "      <td>233.970</td>\n",
       "      <td>250.29</td>\n",
       "      <td>235.547</td>\n",
       "      <td>314.110</td>\n",
       "    </tr>\n",
       "    <tr>\n",
       "      <th>1</th>\n",
       "      <td>SCHAB BEZ KOŚCI</td>\n",
       "      <td>342.94</td>\n",
       "      <td>482.88</td>\n",
       "      <td>469.060</td>\n",
       "      <td>468.346</td>\n",
       "      <td>403.930</td>\n",
       "      <td>403.970</td>\n",
       "      <td>401.182</td>\n",
       "      <td>368.88</td>\n",
       "      <td>468.310</td>\n",
       "      <td>466.03</td>\n",
       "      <td>375.340</td>\n",
       "      <td>692.450</td>\n",
       "    </tr>\n",
       "    <tr>\n",
       "      <th>2</th>\n",
       "      <td>KARCZEK BEZ KOŚCI</td>\n",
       "      <td>449.72</td>\n",
       "      <td>503.24</td>\n",
       "      <td>514.370</td>\n",
       "      <td>511.050</td>\n",
       "      <td>541.610</td>\n",
       "      <td>446.680</td>\n",
       "      <td>431.580</td>\n",
       "      <td>419.03</td>\n",
       "      <td>416.860</td>\n",
       "      <td>472.07</td>\n",
       "      <td>381.510</td>\n",
       "      <td>675.220</td>\n",
       "    </tr>\n",
       "    <tr>\n",
       "      <th>3</th>\n",
       "      <td>SZYNKA Z KOŚCIA</td>\n",
       "      <td>31.67</td>\n",
       "      <td>60.40</td>\n",
       "      <td>65.860</td>\n",
       "      <td>9.410</td>\n",
       "      <td>11.600</td>\n",
       "      <td>40.880</td>\n",
       "      <td>21.340</td>\n",
       "      <td>11.00</td>\n",
       "      <td>22.100</td>\n",
       "      <td>23.65</td>\n",
       "      <td>31.019</td>\n",
       "      <td>199.213</td>\n",
       "    </tr>\n",
       "    <tr>\n",
       "      <th>4</th>\n",
       "      <td>SZYNKA BEZ KOŚCI</td>\n",
       "      <td>446.16</td>\n",
       "      <td>615.37</td>\n",
       "      <td>848.998</td>\n",
       "      <td>635.320</td>\n",
       "      <td>395.850</td>\n",
       "      <td>381.533</td>\n",
       "      <td>472.080</td>\n",
       "      <td>427.28</td>\n",
       "      <td>360.344</td>\n",
       "      <td>584.14</td>\n",
       "      <td>399.820</td>\n",
       "      <td>773.470</td>\n",
       "    </tr>\n",
       "  </tbody>\n",
       "</table>\n",
       "</div>"
      ],
      "text/plain": [
       "             Produkt  01_2020  02_2020  03_2020  04_2020  05_2020  06_2020  \\\n",
       "0     SCHAB Z KOŚCIĄ   270.44   325.73  366.330  300.420  207.278  244.955   \n",
       "1    SCHAB BEZ KOŚCI   342.94   482.88  469.060  468.346  403.930  403.970   \n",
       "2  KARCZEK BEZ KOŚCI   449.72   503.24  514.370  511.050  541.610  446.680   \n",
       "3    SZYNKA Z KOŚCIA    31.67    60.40   65.860    9.410   11.600   40.880   \n",
       "4   SZYNKA BEZ KOŚCI   446.16   615.37  848.998  635.320  395.850  381.533   \n",
       "\n",
       "   07_2020  08_2020  09_2020  10_2020  11_2020  12_2020  \n",
       "0  223.640   208.11  233.970   250.29  235.547  314.110  \n",
       "1  401.182   368.88  468.310   466.03  375.340  692.450  \n",
       "2  431.580   419.03  416.860   472.07  381.510  675.220  \n",
       "3   21.340    11.00   22.100    23.65   31.019  199.213  \n",
       "4  472.080   427.28  360.344   584.14  399.820  773.470  "
      ]
     },
     "execution_count": 389,
     "metadata": {},
     "output_type": "execute_result"
    }
   ],
   "source": [
    "sales_2020 = pd.DataFrame(sales_2015['Produkt'])\n",
    "\n",
    "for index, file in enumerate(files_list_2020):\n",
    "    month = f'0{index+1}' if len(str(index+1)) == 1 else str(index+1)\n",
    "    sum_sales_tmp_2020 = pd.read_excel(io=os.path.join(data_from_2020_path, f'{month},20.xls'), )\n",
    "    sum_sales_tmp_2020 = sum_sales_tmp_2020.loc[0:49, ['Unnamed: 40', 'SUMA']]\n",
    "    sum_sales_tmp_2020.columns = ['Produkt', 'kg']\n",
    "    sales_2020[f'{month}_2020'] = sum_sales_tmp_2020['kg']\n",
    "\n",
    "sales_2020.head()"
   ]
  },
  {
   "cell_type": "code",
   "execution_count": 390,
   "metadata": {},
   "outputs": [
    {
     "name": "stdout",
     "output_type": "stream",
     "text": [
      "Wartość w wierszu 7, kolumnie '09_2020': 1148.6570000000002\n",
      "Wartość w wierszu 9, kolumnie '12_2020': 1298.1878\n",
      "Wartość w wierszu 14, kolumnie '01_2020': 1028.4299999999998\n"
     ]
    }
   ],
   "source": [
    "dont_print = sales_2020.iloc[:, 1:].apply(print_abnormal_values, axis=1)"
   ]
  },
  {
   "cell_type": "code",
   "execution_count": 391,
   "metadata": {},
   "outputs": [
    {
     "name": "stdout",
     "output_type": "stream",
     "text": [
      "<class 'pandas.core.frame.DataFrame'>\n",
      "RangeIndex: 50 entries, 0 to 49\n",
      "Data columns (total 13 columns):\n",
      " #   Column   Non-Null Count  Dtype  \n",
      "---  ------   --------------  -----  \n",
      " 0   Produkt  50 non-null     object \n",
      " 1   01_2020  50 non-null     float64\n",
      " 2   02_2020  50 non-null     float64\n",
      " 3   03_2020  50 non-null     float64\n",
      " 4   04_2020  50 non-null     float64\n",
      " 5   05_2020  50 non-null     float64\n",
      " 6   06_2020  50 non-null     float64\n",
      " 7   07_2020  50 non-null     float64\n",
      " 8   08_2020  50 non-null     float64\n",
      " 9   09_2020  50 non-null     float64\n",
      " 10  10_2020  50 non-null     float64\n",
      " 11  11_2020  50 non-null     float64\n",
      " 12  12_2020  50 non-null     float64\n",
      "dtypes: float64(12), object(1)\n",
      "memory usage: 5.2+ KB\n"
     ]
    }
   ],
   "source": [
    "sales_2020.info()\n",
    "\n",
    "sales_2020.to_csv('out/sales_2020.csv')"
   ]
  },
  {
   "cell_type": "markdown",
   "metadata": {},
   "source": [
    "### 2021 below"
   ]
  },
  {
   "cell_type": "code",
   "execution_count": 392,
   "metadata": {},
   "outputs": [
    {
     "data": {
      "text/plain": [
       "['01.21.xls',\n",
       " '02.21.xls',\n",
       " '03.21.xls',\n",
       " '04.21.xls',\n",
       " '05.21.xls',\n",
       " '06.21.xls',\n",
       " '07.21.xls',\n",
       " '08.21.xls',\n",
       " '09.21.xls',\n",
       " '10.21.xls',\n",
       " '11.21.xls',\n",
       " '12.21.xls']"
      ]
     },
     "execution_count": 392,
     "metadata": {},
     "output_type": "execute_result"
    }
   ],
   "source": [
    "data_from_2021_path = './data/2021/'\n",
    "files_list_2021 = os.listdir(data_from_2021_path)[:12]\n",
    "files_list_2021"
   ]
  },
  {
   "cell_type": "code",
   "execution_count": 393,
   "metadata": {},
   "outputs": [
    {
     "data": {
      "text/html": [
       "<div>\n",
       "<style scoped>\n",
       "    .dataframe tbody tr th:only-of-type {\n",
       "        vertical-align: middle;\n",
       "    }\n",
       "\n",
       "    .dataframe tbody tr th {\n",
       "        vertical-align: top;\n",
       "    }\n",
       "\n",
       "    .dataframe thead th {\n",
       "        text-align: right;\n",
       "    }\n",
       "</style>\n",
       "<table border=\"1\" class=\"dataframe\">\n",
       "  <thead>\n",
       "    <tr style=\"text-align: right;\">\n",
       "      <th></th>\n",
       "      <th>Produkt</th>\n",
       "      <th>01_2021</th>\n",
       "      <th>02_2021</th>\n",
       "      <th>03_2021</th>\n",
       "      <th>04_2021</th>\n",
       "      <th>05_2021</th>\n",
       "      <th>06_2021</th>\n",
       "      <th>07_2021</th>\n",
       "      <th>08_2021</th>\n",
       "      <th>09_2021</th>\n",
       "      <th>10_2021</th>\n",
       "      <th>11_2021</th>\n",
       "      <th>12_2021</th>\n",
       "    </tr>\n",
       "  </thead>\n",
       "  <tbody>\n",
       "    <tr>\n",
       "      <th>0</th>\n",
       "      <td>SCHAB Z KOŚCIĄ</td>\n",
       "      <td>175.46</td>\n",
       "      <td>143.77</td>\n",
       "      <td>364.84</td>\n",
       "      <td>216.120</td>\n",
       "      <td>274.950</td>\n",
       "      <td>203.72</td>\n",
       "      <td>227.549</td>\n",
       "      <td>248.100</td>\n",
       "      <td>335.34</td>\n",
       "      <td>389.100</td>\n",
       "      <td>350.8600</td>\n",
       "      <td>376.850</td>\n",
       "    </tr>\n",
       "    <tr>\n",
       "      <th>1</th>\n",
       "      <td>SCHAB BEZ KOŚCI</td>\n",
       "      <td>344.90</td>\n",
       "      <td>304.37</td>\n",
       "      <td>683.79</td>\n",
       "      <td>386.310</td>\n",
       "      <td>378.839</td>\n",
       "      <td>336.65</td>\n",
       "      <td>368.050</td>\n",
       "      <td>327.430</td>\n",
       "      <td>394.03</td>\n",
       "      <td>408.863</td>\n",
       "      <td>389.4430</td>\n",
       "      <td>694.802</td>\n",
       "    </tr>\n",
       "    <tr>\n",
       "      <th>2</th>\n",
       "      <td>KARCZEK BEZ KOŚCI</td>\n",
       "      <td>352.30</td>\n",
       "      <td>382.33</td>\n",
       "      <td>738.54</td>\n",
       "      <td>370.736</td>\n",
       "      <td>428.720</td>\n",
       "      <td>370.24</td>\n",
       "      <td>401.480</td>\n",
       "      <td>369.218</td>\n",
       "      <td>420.93</td>\n",
       "      <td>463.104</td>\n",
       "      <td>388.0002</td>\n",
       "      <td>848.260</td>\n",
       "    </tr>\n",
       "    <tr>\n",
       "      <th>3</th>\n",
       "      <td>SZYNKA Z KOŚCIA</td>\n",
       "      <td>97.75</td>\n",
       "      <td>106.87</td>\n",
       "      <td>188.22</td>\n",
       "      <td>60.900</td>\n",
       "      <td>155.300</td>\n",
       "      <td>30.30</td>\n",
       "      <td>97.400</td>\n",
       "      <td>74.700</td>\n",
       "      <td>83.92</td>\n",
       "      <td>56.700</td>\n",
       "      <td>62.5600</td>\n",
       "      <td>113.910</td>\n",
       "    </tr>\n",
       "    <tr>\n",
       "      <th>4</th>\n",
       "      <td>SZYNKA BEZ KOŚCI</td>\n",
       "      <td>334.26</td>\n",
       "      <td>489.36</td>\n",
       "      <td>900.29</td>\n",
       "      <td>714.630</td>\n",
       "      <td>559.060</td>\n",
       "      <td>704.34</td>\n",
       "      <td>695.540</td>\n",
       "      <td>590.270</td>\n",
       "      <td>901.93</td>\n",
       "      <td>642.750</td>\n",
       "      <td>618.5400</td>\n",
       "      <td>1083.620</td>\n",
       "    </tr>\n",
       "  </tbody>\n",
       "</table>\n",
       "</div>"
      ],
      "text/plain": [
       "             Produkt  01_2021  02_2021  03_2021  04_2021  05_2021  06_2021  \\\n",
       "0     SCHAB Z KOŚCIĄ   175.46   143.77   364.84  216.120  274.950   203.72   \n",
       "1    SCHAB BEZ KOŚCI   344.90   304.37   683.79  386.310  378.839   336.65   \n",
       "2  KARCZEK BEZ KOŚCI   352.30   382.33   738.54  370.736  428.720   370.24   \n",
       "3    SZYNKA Z KOŚCIA    97.75   106.87   188.22   60.900  155.300    30.30   \n",
       "4   SZYNKA BEZ KOŚCI   334.26   489.36   900.29  714.630  559.060   704.34   \n",
       "\n",
       "   07_2021  08_2021  09_2021  10_2021   11_2021   12_2021  \n",
       "0  227.549  248.100   335.34  389.100  350.8600   376.850  \n",
       "1  368.050  327.430   394.03  408.863  389.4430   694.802  \n",
       "2  401.480  369.218   420.93  463.104  388.0002   848.260  \n",
       "3   97.400   74.700    83.92   56.700   62.5600   113.910  \n",
       "4  695.540  590.270   901.93  642.750  618.5400  1083.620  "
      ]
     },
     "execution_count": 393,
     "metadata": {},
     "output_type": "execute_result"
    }
   ],
   "source": [
    "sales_2021 = pd.DataFrame(sales_2015['Produkt'])\n",
    "\n",
    "for index, file in enumerate(files_list_2021):\n",
    "    month = f'0{index+1}' if len(str(index+1)) == 1 else str(index+1)\n",
    "    sum_sales_tmp_2021 = pd.read_excel(io=os.path.join(data_from_2021_path, f'{month}.21.xls'), )\n",
    "    sum_sales_tmp_2021 = sum_sales_tmp_2021.loc[0:49, ['Unnamed: 40', 'SUMA']]\n",
    "    sum_sales_tmp_2021.columns = ['Produkt', 'kg']\n",
    "    sales_2021[f'{month}_2021'] = sum_sales_tmp_2021['kg']\n",
    "\n",
    "sales_2021.head()"
   ]
  },
  {
   "cell_type": "code",
   "execution_count": 394,
   "metadata": {},
   "outputs": [
    {
     "name": "stdout",
     "output_type": "stream",
     "text": [
      "Wartość w wierszu 4, kolumnie '12_2021': 1083.6200000000001\n",
      "Wartość w wierszu 9, kolumnie '03_2021': 1024.01\n",
      "Wartość w wierszu 9, kolumnie '12_2021': 1155.3719999999998\n"
     ]
    }
   ],
   "source": [
    "dont_print = sales_2021.iloc[:, 1:].apply(print_abnormal_values, axis=1)"
   ]
  },
  {
   "cell_type": "code",
   "execution_count": 395,
   "metadata": {},
   "outputs": [
    {
     "name": "stdout",
     "output_type": "stream",
     "text": [
      "<class 'pandas.core.frame.DataFrame'>\n",
      "RangeIndex: 50 entries, 0 to 49\n",
      "Data columns (total 13 columns):\n",
      " #   Column   Non-Null Count  Dtype  \n",
      "---  ------   --------------  -----  \n",
      " 0   Produkt  50 non-null     object \n",
      " 1   01_2021  50 non-null     float64\n",
      " 2   02_2021  50 non-null     float64\n",
      " 3   03_2021  50 non-null     float64\n",
      " 4   04_2021  50 non-null     float64\n",
      " 5   05_2021  50 non-null     float64\n",
      " 6   06_2021  50 non-null     float64\n",
      " 7   07_2021  50 non-null     float64\n",
      " 8   08_2021  50 non-null     float64\n",
      " 9   09_2021  50 non-null     float64\n",
      " 10  10_2021  50 non-null     float64\n",
      " 11  11_2021  50 non-null     float64\n",
      " 12  12_2021  50 non-null     float64\n",
      "dtypes: float64(12), object(1)\n",
      "memory usage: 5.2+ KB\n"
     ]
    }
   ],
   "source": [
    "sales_2021.info()\n",
    "\n",
    "sales_2021.to_csv('out/sales_2021.csv')"
   ]
  },
  {
   "cell_type": "markdown",
   "metadata": {},
   "source": [
    "### 2022 below"
   ]
  },
  {
   "cell_type": "code",
   "execution_count": 396,
   "metadata": {},
   "outputs": [
    {
     "data": {
      "text/plain": [
       "['01.22.xls',\n",
       " '02.22.xls',\n",
       " '03.22.xls',\n",
       " '04.22.xls',\n",
       " '05.22.xls',\n",
       " '06.22.xls',\n",
       " '07.22.xls',\n",
       " '08.22.xls',\n",
       " '09.22.xls',\n",
       " '10.22.xls',\n",
       " '11.22.xls',\n",
       " '12.22.xls']"
      ]
     },
     "execution_count": 396,
     "metadata": {},
     "output_type": "execute_result"
    }
   ],
   "source": [
    "data_from_2022_path = './data/2022/'\n",
    "files_list_2022 = os.listdir(data_from_2022_path)[:12]\n",
    "files_list_2022"
   ]
  },
  {
   "cell_type": "code",
   "execution_count": 397,
   "metadata": {},
   "outputs": [
    {
     "data": {
      "text/html": [
       "<div>\n",
       "<style scoped>\n",
       "    .dataframe tbody tr th:only-of-type {\n",
       "        vertical-align: middle;\n",
       "    }\n",
       "\n",
       "    .dataframe tbody tr th {\n",
       "        vertical-align: top;\n",
       "    }\n",
       "\n",
       "    .dataframe thead th {\n",
       "        text-align: right;\n",
       "    }\n",
       "</style>\n",
       "<table border=\"1\" class=\"dataframe\">\n",
       "  <thead>\n",
       "    <tr style=\"text-align: right;\">\n",
       "      <th></th>\n",
       "      <th>Produkt</th>\n",
       "      <th>01_2022</th>\n",
       "      <th>02_2022</th>\n",
       "      <th>03_2022</th>\n",
       "      <th>04_2022</th>\n",
       "      <th>05_2022</th>\n",
       "      <th>06_2022</th>\n",
       "      <th>07_2022</th>\n",
       "      <th>08_2022</th>\n",
       "      <th>09_2022</th>\n",
       "      <th>10_2022</th>\n",
       "      <th>11_2022</th>\n",
       "      <th>12_2022</th>\n",
       "    </tr>\n",
       "  </thead>\n",
       "  <tbody>\n",
       "    <tr>\n",
       "      <th>0</th>\n",
       "      <td>SCHAB Z KOŚCIĄ</td>\n",
       "      <td>206.74</td>\n",
       "      <td>220.60</td>\n",
       "      <td>301.266</td>\n",
       "      <td>422.42</td>\n",
       "      <td>384.020</td>\n",
       "      <td>278.830</td>\n",
       "      <td>311.61</td>\n",
       "      <td>476.210</td>\n",
       "      <td>335.63</td>\n",
       "      <td>546.690</td>\n",
       "      <td>350.210</td>\n",
       "      <td>567.59</td>\n",
       "    </tr>\n",
       "    <tr>\n",
       "      <th>1</th>\n",
       "      <td>SCHAB BEZ KOŚCI</td>\n",
       "      <td>295.28</td>\n",
       "      <td>326.26</td>\n",
       "      <td>486.840</td>\n",
       "      <td>462.02</td>\n",
       "      <td>332.909</td>\n",
       "      <td>351.130</td>\n",
       "      <td>279.92</td>\n",
       "      <td>385.817</td>\n",
       "      <td>437.13</td>\n",
       "      <td>401.870</td>\n",
       "      <td>411.405</td>\n",
       "      <td>645.30</td>\n",
       "    </tr>\n",
       "    <tr>\n",
       "      <th>2</th>\n",
       "      <td>KARCZEK BEZ KOŚCI</td>\n",
       "      <td>282.33</td>\n",
       "      <td>376.04</td>\n",
       "      <td>494.817</td>\n",
       "      <td>677.02</td>\n",
       "      <td>356.590</td>\n",
       "      <td>351.034</td>\n",
       "      <td>320.97</td>\n",
       "      <td>375.984</td>\n",
       "      <td>346.09</td>\n",
       "      <td>376.620</td>\n",
       "      <td>377.660</td>\n",
       "      <td>575.38</td>\n",
       "    </tr>\n",
       "    <tr>\n",
       "      <th>3</th>\n",
       "      <td>SZYNKA Z KOŚCIA</td>\n",
       "      <td>0.00</td>\n",
       "      <td>6.00</td>\n",
       "      <td>43.380</td>\n",
       "      <td>70.22</td>\n",
       "      <td>0.000</td>\n",
       "      <td>0.380</td>\n",
       "      <td>0.65</td>\n",
       "      <td>1.980</td>\n",
       "      <td>0.00</td>\n",
       "      <td>6.120</td>\n",
       "      <td>9.160</td>\n",
       "      <td>23.78</td>\n",
       "    </tr>\n",
       "    <tr>\n",
       "      <th>4</th>\n",
       "      <td>SZYNKA BEZ KOŚCI</td>\n",
       "      <td>483.86</td>\n",
       "      <td>640.13</td>\n",
       "      <td>675.430</td>\n",
       "      <td>940.36</td>\n",
       "      <td>790.845</td>\n",
       "      <td>660.530</td>\n",
       "      <td>444.34</td>\n",
       "      <td>426.840</td>\n",
       "      <td>509.50</td>\n",
       "      <td>708.884</td>\n",
       "      <td>612.200</td>\n",
       "      <td>874.49</td>\n",
       "    </tr>\n",
       "  </tbody>\n",
       "</table>\n",
       "</div>"
      ],
      "text/plain": [
       "             Produkt  01_2022  02_2022  03_2022  04_2022  05_2022  06_2022  \\\n",
       "0     SCHAB Z KOŚCIĄ   206.74   220.60  301.266   422.42  384.020  278.830   \n",
       "1    SCHAB BEZ KOŚCI   295.28   326.26  486.840   462.02  332.909  351.130   \n",
       "2  KARCZEK BEZ KOŚCI   282.33   376.04  494.817   677.02  356.590  351.034   \n",
       "3    SZYNKA Z KOŚCIA     0.00     6.00   43.380    70.22    0.000    0.380   \n",
       "4   SZYNKA BEZ KOŚCI   483.86   640.13  675.430   940.36  790.845  660.530   \n",
       "\n",
       "   07_2022  08_2022  09_2022  10_2022  11_2022  12_2022  \n",
       "0   311.61  476.210   335.63  546.690  350.210   567.59  \n",
       "1   279.92  385.817   437.13  401.870  411.405   645.30  \n",
       "2   320.97  375.984   346.09  376.620  377.660   575.38  \n",
       "3     0.65    1.980     0.00    6.120    9.160    23.78  \n",
       "4   444.34  426.840   509.50  708.884  612.200   874.49  "
      ]
     },
     "execution_count": 397,
     "metadata": {},
     "output_type": "execute_result"
    }
   ],
   "source": [
    "sales_2022 = pd.DataFrame(sales_2015['Produkt'])\n",
    "\n",
    "for index, file in enumerate(files_list_2022):\n",
    "    month = f'0{index+1}' if len(str(index+1)) == 1 else str(index+1)\n",
    "    \n",
    "    sum_sales_tmp_2022 = pd.read_excel(io=os.path.join(data_from_2022_path, f'{month}.22.xls'), )\n",
    "    sum_sales_tmp_2022 = sum_sales_tmp_2022.loc[0:49, ['Unnamed: 40', 'SUMA']]\n",
    "    sum_sales_tmp_2022.columns = ['Produkt', 'kg']\n",
    "    sales_2022[f'{month}_2022'] = sum_sales_tmp_2022['kg']\n",
    "\n",
    "sales_2022.head()"
   ]
  },
  {
   "cell_type": "code",
   "execution_count": 398,
   "metadata": {},
   "outputs": [
    {
     "name": "stdout",
     "output_type": "stream",
     "text": [
      "Wartość w wierszu 5, kolumnie '04_2022': 1010.8399999999999\n",
      "Wartość w wierszu 9, kolumnie '03_2022': 1054.859\n",
      "Wartość w wierszu 9, kolumnie '04_2022': 1112.305\n",
      "Wartość w wierszu 9, kolumnie '12_2022': 1156.5500000000002\n"
     ]
    }
   ],
   "source": [
    "dont_print = sales_2022.iloc[:, 1:].apply(print_abnormal_values, axis=1)"
   ]
  },
  {
   "cell_type": "code",
   "execution_count": 399,
   "metadata": {},
   "outputs": [
    {
     "name": "stdout",
     "output_type": "stream",
     "text": [
      "<class 'pandas.core.frame.DataFrame'>\n",
      "RangeIndex: 50 entries, 0 to 49\n",
      "Data columns (total 13 columns):\n",
      " #   Column   Non-Null Count  Dtype  \n",
      "---  ------   --------------  -----  \n",
      " 0   Produkt  50 non-null     object \n",
      " 1   01_2022  50 non-null     float64\n",
      " 2   02_2022  50 non-null     float64\n",
      " 3   03_2022  50 non-null     float64\n",
      " 4   04_2022  50 non-null     float64\n",
      " 5   05_2022  50 non-null     float64\n",
      " 6   06_2022  50 non-null     float64\n",
      " 7   07_2022  50 non-null     float64\n",
      " 8   08_2022  50 non-null     float64\n",
      " 9   09_2022  50 non-null     float64\n",
      " 10  10_2022  50 non-null     float64\n",
      " 11  11_2022  50 non-null     float64\n",
      " 12  12_2022  50 non-null     float64\n",
      "dtypes: float64(12), object(1)\n",
      "memory usage: 5.2+ KB\n"
     ]
    }
   ],
   "source": [
    "sales_2022.info()\n",
    "\n",
    "sales_2022.to_csv('out/sales_2022.csv')"
   ]
  },
  {
   "cell_type": "markdown",
   "metadata": {},
   "source": [
    "### 2023 below"
   ]
  },
  {
   "cell_type": "code",
   "execution_count": 400,
   "metadata": {},
   "outputs": [
    {
     "data": {
      "text/plain": [
       "['01.23.xls',\n",
       " '02.23.xls',\n",
       " '03.23.xls',\n",
       " '04.23.xls',\n",
       " '05.23.xls',\n",
       " '06.23.xls',\n",
       " '07.23.xls',\n",
       " '08.23.xls',\n",
       " '09.23.xls',\n",
       " '10.23.xls',\n",
       " '11.23.xls',\n",
       " '12.23.xls']"
      ]
     },
     "execution_count": 400,
     "metadata": {},
     "output_type": "execute_result"
    }
   ],
   "source": [
    "data_from_2023_path = './data/2023/'\n",
    "files_list_2023 = os.listdir(data_from_2023_path)[:12]\n",
    "files_list_2023"
   ]
  },
  {
   "cell_type": "code",
   "execution_count": 1,
   "metadata": {},
   "outputs": [
    {
     "ename": "NameError",
     "evalue": "name 'pd' is not defined",
     "output_type": "error",
     "traceback": [
      "\u001b[1;31m---------------------------------------------------------------------------\u001b[0m",
      "\u001b[1;31mNameError\u001b[0m                                 Traceback (most recent call last)",
      "Cell \u001b[1;32mIn[1], line 1\u001b[0m\n\u001b[1;32m----> 1\u001b[0m sales_2023 \u001b[38;5;241m=\u001b[39m \u001b[43mpd\u001b[49m\u001b[38;5;241m.\u001b[39mDataFrame(sales_2015[\u001b[38;5;124m'\u001b[39m\u001b[38;5;124mProdukt\u001b[39m\u001b[38;5;124m'\u001b[39m])\n\u001b[0;32m      3\u001b[0m \u001b[38;5;28;01mfor\u001b[39;00m index, file \u001b[38;5;129;01min\u001b[39;00m \u001b[38;5;28menumerate\u001b[39m(files_list_2023):\n\u001b[0;32m      4\u001b[0m     month \u001b[38;5;241m=\u001b[39m \u001b[38;5;124mf\u001b[39m\u001b[38;5;124m'\u001b[39m\u001b[38;5;124m0\u001b[39m\u001b[38;5;132;01m{\u001b[39;00mindex\u001b[38;5;241m+\u001b[39m\u001b[38;5;241m1\u001b[39m\u001b[38;5;132;01m}\u001b[39;00m\u001b[38;5;124m'\u001b[39m \u001b[38;5;28;01mif\u001b[39;00m \u001b[38;5;28mlen\u001b[39m(\u001b[38;5;28mstr\u001b[39m(index\u001b[38;5;241m+\u001b[39m\u001b[38;5;241m1\u001b[39m)) \u001b[38;5;241m==\u001b[39m \u001b[38;5;241m1\u001b[39m \u001b[38;5;28;01melse\u001b[39;00m \u001b[38;5;28mstr\u001b[39m(index\u001b[38;5;241m+\u001b[39m\u001b[38;5;241m1\u001b[39m)\n",
      "\u001b[1;31mNameError\u001b[0m: name 'pd' is not defined"
     ]
    }
   ],
   "source": [
    "sales_2023 = pd.DataFrame(sales_2015['Produkt'])\n",
    "\n",
    "for index, file in enumerate(files_list_2023):\n",
    "    month = f'0{index+1}' if len(str(index+1)) == 1 else str(index+1)\n",
    "    sum_sales_tmp_2023 = pd.read_excel(io=os.path.join(data_from_2023_path, f'{month}.23.xls'), )\n",
    "    sum_sales_tmp_2023 = sum_sales_tmp_2023.loc[0:49, ['Unnamed: 40', 'SUMA']]\n",
    "    sum_sales_tmp_2023.columns = ['Produkt', 'kg']\n",
    "    sales_2023[f'{month}_2023'] = sum_sales_tmp_2023['kg']\n",
    "\n",
    "sales_2023.head()"
   ]
  },
  {
   "cell_type": "code",
   "execution_count": 402,
   "metadata": {},
   "outputs": [
    {
     "name": "stdout",
     "output_type": "stream",
     "text": [
      "Wartość w wierszu 3, kolumnie '08_2023': 1061.48\n",
      "Wartość w wierszu 4, kolumnie '03_2023': 1029.6570000000002\n",
      "Wartość w wierszu 6, kolumnie '03_2023': 1037.97\n",
      "Wartość w wierszu 24, kolumnie '08_2023': 1007.8900000000001\n"
     ]
    }
   ],
   "source": [
    "sales_2023.loc[28,'05_2023'] /= 10\n",
    "\n",
    "dont_print = sales_2023.iloc[:, 1:].apply(print_abnormal_values, axis=1)"
   ]
  },
  {
   "cell_type": "code",
   "execution_count": 403,
   "metadata": {},
   "outputs": [
    {
     "name": "stdout",
     "output_type": "stream",
     "text": [
      "<class 'pandas.core.frame.DataFrame'>\n",
      "RangeIndex: 50 entries, 0 to 49\n",
      "Data columns (total 13 columns):\n",
      " #   Column   Non-Null Count  Dtype  \n",
      "---  ------   --------------  -----  \n",
      " 0   Produkt  50 non-null     object \n",
      " 1   01_2023  50 non-null     float64\n",
      " 2   02_2023  50 non-null     float64\n",
      " 3   03_2023  50 non-null     float64\n",
      " 4   04_2023  50 non-null     float64\n",
      " 5   05_2023  50 non-null     float64\n",
      " 6   06_2023  50 non-null     float64\n",
      " 7   07_2023  50 non-null     float64\n",
      " 8   08_2023  50 non-null     float64\n",
      " 9   09_2023  50 non-null     float64\n",
      " 10  10_2023  50 non-null     float64\n",
      " 11  11_2023  50 non-null     float64\n",
      " 12  12_2023  50 non-null     float64\n",
      "dtypes: float64(12), object(1)\n",
      "memory usage: 5.2+ KB\n"
     ]
    }
   ],
   "source": [
    "sales_2023.info()\n",
    "\n",
    "sales_2023.to_csv('out/sales_2023.csv')"
   ]
  }
 ],
 "metadata": {
  "kernelspec": {
   "display_name": "DataModelingAndAnalitycs",
   "language": "python",
   "name": "python3"
  },
  "language_info": {
   "codemirror_mode": {
    "name": "ipython",
    "version": 3
   },
   "file_extension": ".py",
   "mimetype": "text/x-python",
   "name": "python",
   "nbconvert_exporter": "python",
   "pygments_lexer": "ipython3",
   "version": "3.13.0"
  }
 },
 "nbformat": 4,
 "nbformat_minor": 2
}
